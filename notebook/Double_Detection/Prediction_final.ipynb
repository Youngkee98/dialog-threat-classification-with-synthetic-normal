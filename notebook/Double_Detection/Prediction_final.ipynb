{
  "nbformat": 4,
  "nbformat_minor": 0,
  "metadata": {
    "colab": {
      "provenance": [],
      "gpuType": "L4",
      "machine_shape": "hm"
    },
    "kernelspec": {
      "name": "python3",
      "display_name": "Python 3"
    },
    "language_info": {
      "name": "python"
    },
    "accelerator": "GPU"
  },
  "cells": [
    {
      "cell_type": "code",
      "execution_count": null,
      "metadata": {
        "colab": {
          "base_uri": "https://localhost:8080/"
        },
        "id": "FlVXmFgIoYE-",
        "outputId": "3c9f8d4e-88c8-4b08-db59-ae5f46ae9ccd"
      },
      "outputs": [
        {
          "output_type": "stream",
          "name": "stdout",
          "text": [
            "Mounted at /content/drive\n"
          ]
        }
      ],
      "source": [
        "from google.colab import drive\n",
        "drive.mount('/content/drive')"
      ]
    },
    {
      "cell_type": "code",
      "source": [
        "import torch\n",
        "import torch.nn as nn\n",
        "from transformers import BertTokenizer, BertModel\n",
        "import torch.nn.functional as F\n",
        "import pandas as pd\n",
        "\n",
        "class SharedBERT(nn.Module):\n",
        "    def __init__(self, model_name=\"beomi/kcbert-base\"):\n",
        "        super().__init__()\n",
        "        self.bert = BertModel.from_pretrained(model_name)\n",
        "        for p in self.bert.parameters():\n",
        "            p.requires_grad = False\n",
        "\n",
        "    def forward(self, input_ids, attention_mask):\n",
        "        return self.bert(input_ids=input_ids, attention_mask=attention_mask).pooler_output\n",
        "\n",
        "class BinaryClassifier(nn.Module):\n",
        "    def __init__(self, hidden_size=768):\n",
        "        super().__init__()\n",
        "        self.classifier = nn.Linear(hidden_size, 2)\n",
        "\n",
        "    def forward(self, cls_output):\n",
        "        return self.classifier(cls_output)\n",
        "\n",
        "class MultiClassifier(nn.Module):\n",
        "    def __init__(self, hidden_size=768, num_classes=5):\n",
        "        super().__init__()\n",
        "        self.classifier = nn.Sequential(\n",
        "            nn.Linear(hidden_size, 512),\n",
        "            nn.ReLU(),\n",
        "            nn.BatchNorm1d(512),\n",
        "            nn.Linear(512, 256),\n",
        "            nn.ReLU(),\n",
        "            nn.Dropout(0.5),\n",
        "            nn.Linear(256, num_classes)\n",
        "        )\n",
        "\n",
        "    def forward(self, cls_output):\n",
        "        return self.classifier(cls_output)\n",
        "\n",
        "# 예측 함수 정의\n",
        "\n",
        "def predict_pipeline(texts, tokenizer, shared_bert, binary_model, multi_model):\n",
        "    shared_bert.eval()\n",
        "    binary_model.eval()\n",
        "    multi_model.eval()\n",
        "\n",
        "    inputs = tokenizer(texts, return_tensors=\"pt\", padding=True, truncation=True, max_length=128).to(\"cuda\")\n",
        "    # with torch.no_grad():\n",
        "    #     cls_output = shared_bert(inputs['input_ids'], inputs['attention_mask'])\n",
        "    #     binary_logits = binary_model(cls_output)\n",
        "    #     binary_probs = F.softmax(binary_logits, dim=1)\n",
        "    #     binary_preds = (binary_probs[:, 1] > 0.7).long()\n",
        "\n",
        "    #     multi_logits = multi_model(cls_output)\n",
        "    #     multi_preds = torch.argmax(multi_logits, dim=1)\n",
        "\n",
        "    #     final_preds = []\n",
        "    #     for i in range(len(texts)):\n",
        "    #         if binary_preds[i].item() == 0:\n",
        "    #             final_preds.append(0)  # 일반대화\n",
        "    #         else:\n",
        "    #             final_preds.append(multi_preds[i].item())  # 1~4 (다중 분류 결과)\n",
        "    with torch.no_grad():\n",
        "        # BERT로 CLS 토큰 임베딩 추출\n",
        "        cls_output = shared_bert(inputs['input_ids'], inputs['attention_mask'])\n",
        "\n",
        "        # 1단계: 이진 분류 (일반 vs 위협)\n",
        "        binary_logits = binary_model(cls_output)\n",
        "        binary_probs = F.softmax(binary_logits, dim=1)\n",
        "        binary_preds = (binary_probs[:, 1] > 0.68).long()\n",
        "\n",
        "        # 일반 대화(0)로 초기화\n",
        "        final_preds = [0] * len(texts)\n",
        "\n",
        "        # 위협으로 판단된 인덱스만 추출\n",
        "        threat_indices = [i for i, pred in enumerate(binary_preds) if pred.item() == 1]\n",
        "\n",
        "        if threat_indices:\n",
        "            # 해당 인덱스의 cls_output만 다중 분류기로 전달\n",
        "            threat_cls_outputs = cls_output[threat_indices]\n",
        "            multi_logits = multi_model(threat_cls_outputs)\n",
        "            multi_preds = torch.argmax(multi_logits, dim=1)\n",
        "\n",
        "            # multi_preds 결과를 final_preds에 반영\n",
        "            for idx, multi_pred in zip(threat_indices, multi_preds):\n",
        "                final_preds[idx] = multi_pred.item()\n",
        "\n",
        "    return final_preds\n",
        "\n",
        "\n",
        "# test.csv 기반으로 예측하고 submission.csv 저장\n",
        "\n",
        "def run_submission(test_csv_path, submission_csv_path, tokenizer, shared_bert, binary_model, multi_model):\n",
        "    test_df = pd.read_csv(test_csv_path)\n",
        "    texts = test_df['text'].tolist()\n",
        "    preds = predict_pipeline(texts, tokenizer, shared_bert, binary_model, multi_model)\n",
        "\n",
        "    # 클래스 번호 → 캐글 라벨 매핑\n",
        "    mapping = {\n",
        "        0: \"04\",  # 일반대화\n",
        "        1: \"00\",  # 협박\n",
        "        2: \"01\",  # 갈취\n",
        "        3: \"02\",  # 직장 내 괴롭힘\n",
        "        4: \"03\"   # 기타 괴롭힘\n",
        "    }\n",
        "\n",
        "     # 안전하게 int 변환 후 문자열 라벨로 매핑\n",
        "    preds_clean = [int(i) for i in preds]\n",
        "    mapped_preds = [mapping[i] for i in preds_clean]\n",
        "\n",
        "    print(\"✔ preds_clean 예시:\", preds_clean[:10])\n",
        "    print(\"✔ mapped_preds 예시:\", mapped_preds[:10])\n",
        "\n",
        "    # 제출 파일 생성\n",
        "    submission = pd.DataFrame({\n",
        "        \"file_name\": test_df[\"idx\"],  # 또는 \"id\" 컬럼 이름에 맞게 수정\n",
        "        \"class\": mapped_preds\n",
        "    })\n",
        "\n",
        "    submission[\"class\"] = submission[\"class\"].astype(str)\n",
        "    submission.to_csv(submission_csv_path, index=False)\n",
        "    print(f\"submission.csv 저장 완료: {submission_csv_path}\")\n",
        "\n",
        "\n",
        "    # ✅ 클래스별 개수 출력\n",
        "    print(\"\\n📊 클래스 분포:\")\n",
        "    print(submission[\"class\"].value_counts().sort_index())"
      ],
      "metadata": {
        "id": "Zp-R73gfqfJG"
      },
      "execution_count": null,
      "outputs": []
    },
    {
      "cell_type": "code",
      "source": [
        "tokenizer = BertTokenizer.from_pretrained(\"beomi/kcbert-base\")\n",
        "shared_bert = SharedBERT().to(\"cuda\")\n",
        "shared_bert.eval()\n",
        "\n",
        "binary_model = BinaryClassifier().to(\"cuda\")\n",
        "binary_model.load_state_dict(torch.load(\"/content/drive/MyDrive/DLthon/binary_4.pt\"))\n",
        "binary_model.eval()\n",
        "\n",
        "multi_model = MultiClassifier().to(\"cuda\")\n",
        "# multi_model.load_state_dict(torch.load(\"/content/drive/MyDrive/DLthon/multi_4000_generated.pt\"))\n",
        "multi_model.load_state_dict(torch.load(\"/content/drive/MyDrive/DLthon/multi_augmentation_3.pt\"))\n",
        "multi_model.eval()"
      ],
      "metadata": {
        "colab": {
          "base_uri": "https://localhost:8080/"
        },
        "id": "ez6_Hi6Lqo-F",
        "outputId": "fdd9ae62-25f0-4e98-f58d-b8a19ed700a6"
      },
      "execution_count": null,
      "outputs": [
        {
          "output_type": "execute_result",
          "data": {
            "text/plain": [
              "MultiClassifier(\n",
              "  (classifier): Sequential(\n",
              "    (0): Linear(in_features=768, out_features=512, bias=True)\n",
              "    (1): ReLU()\n",
              "    (2): BatchNorm1d(512, eps=1e-05, momentum=0.1, affine=True, track_running_stats=True)\n",
              "    (3): Linear(in_features=512, out_features=256, bias=True)\n",
              "    (4): ReLU()\n",
              "    (5): Dropout(p=0.5, inplace=False)\n",
              "    (6): Linear(in_features=256, out_features=5, bias=True)\n",
              "  )\n",
              ")"
            ]
          },
          "metadata": {},
          "execution_count": 12
        }
      ]
    },
    {
      "cell_type": "code",
      "source": [
        "run_submission(\n",
        "    test_csv_path=\"/content/drive/MyDrive/DLthon/test.csv\",\n",
        "    submission_csv_path=\"/content/drive/MyDrive/DLthon/kc_bert_only_augmentation_0.68.csv\",\n",
        "    tokenizer=tokenizer,\n",
        "    shared_bert=shared_bert,\n",
        "    binary_model=binary_model,\n",
        "    multi_model=multi_model\n",
        ")"
      ],
      "metadata": {
        "colab": {
          "base_uri": "https://localhost:8080/"
        },
        "id": "b1p_oVAvrWBv",
        "outputId": "83ec6251-783d-490a-a067-48ab14d409b4"
      },
      "execution_count": null,
      "outputs": [
        {
          "output_type": "stream",
          "name": "stdout",
          "text": [
            "✔ preds_clean 예시: [2, 3, 3, 0, 4, 1, 1, 2, 0, 2]\n",
            "✔ mapped_preds 예시: ['01', '02', '02', '04', '03', '00', '00', '01', '04', '01']\n",
            "✅ submission.csv 저장 완료: /content/drive/MyDrive/DLthon/kc_bert_only_augmentation_0.68.csv\n",
            "\n",
            "📊 클래스 분포:\n",
            "class\n",
            "00     99\n",
            "01     98\n",
            "02    103\n",
            "03    112\n",
            "04     88\n",
            "Name: count, dtype: int64\n"
          ]
        }
      ]
    }
  ]
}